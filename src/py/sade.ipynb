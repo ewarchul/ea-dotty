{
 "cells": [
  {
   "cell_type": "code",
   "execution_count": 27,
   "outputs": [],
   "source": [
    "from sade import *\n",
    "import numpy as np\n",
    "from functools import reduce"
   ],
   "metadata": {
    "collapsed": false,
    "pycharm": {
     "name": "#%%\n"
    }
   }
  },
  {
   "cell_type": "code",
   "execution_count": 33,
   "outputs": [],
   "source": [],
   "metadata": {
    "collapsed": false,
    "pycharm": {
     "name": "#%%\n"
    }
   }
  },
  {
   "cell_type": "code",
   "execution_count": 57,
   "outputs": [],
   "source": [
    "params = get_default_params(dim=10)\n",
    "\n",
    "# We define the boundaries of the variables\n",
    "params['bounds'] = np.array([[-pow(10, 6), pow(10, 6)]] * 10)\n",
    "params['individual_size'] = 10\n",
    "params['population_size'] = 50\n",
    "\n",
    "# # We indicate the function we want to minimize\n",
    "params['opts'] = None\n",
    "params['max_evals'] = 5 * 10000\n",
    "params['func'] = lambda p: reduce(lambda cum, x: cum + x * x, p, 0)"
   ],
   "metadata": {
    "collapsed": false,
    "pycharm": {
     "name": "#%%\n"
    }
   }
  },
  {
   "cell_type": "code",
   "execution_count": 58,
   "outputs": [],
   "source": [
    "solution, fitness, archive = apply(**params)"
   ],
   "metadata": {
    "collapsed": false,
    "pycharm": {
     "name": "#%%\n"
    }
   }
  },
  {
   "cell_type": "code",
   "execution_count": 69,
   "outputs": [],
   "source": [],
   "metadata": {
    "collapsed": false,
    "pycharm": {
     "name": "#%%\n"
    }
   }
  },
  {
   "cell_type": "code",
   "execution_count": 70,
   "outputs": [],
   "source": [
    "def estimator(population):\n",
    "    pass\n",
    "    # TODO"
   ],
   "metadata": {
    "collapsed": false,
    "pycharm": {
     "name": "#%%\n"
    }
   }
  },
  {
   "cell_type": "code",
   "execution_count": 60,
   "outputs": [],
   "source": [
    "def plot(population, fitfunc):\n",
    "    bf = min(map(lambda point: fitfunc(point), population))\n",
    "    mf = fitfunc(np.mean(population, axis=0))\n",
    "    ep = fitfunc(estimator(population))"
   ],
   "metadata": {
    "collapsed": false,
    "pycharm": {
     "name": "#%%\n"
    }
   }
  },
  {
   "cell_type": "code",
   "execution_count": 56,
   "outputs": [],
   "source": [
    "from fitnessFunctions import spherical, elliptic, rosenbrock, rastrigin\n",
    "\n",
    "test_params_DN = [(10, 2), (10, 5), (10, 10), (10, 20), (10, 50), (10, 100), (10, 200), (10, 500), (10, 1000), (2, 100),\n",
    "                  (5, 100), (10, 100), (20, 100), (50, 100), (100, 100)]\n",
    "for fitfunc in [spherical, elliptic, rosenbrock, rastrigin]:\n",
    "    for D, N in test_params_DN:\n",
    "        params = {'max_evals': 5000 * D, 'population_size': N, 'callback': None,\n",
    "                  'individual_size': D, 'seed': 21, 'opts': None}\n",
    "        _, _, archive = apply(**params)\n",
    "        plot(archive)\n"
   ],
   "metadata": {
    "collapsed": false,
    "pycharm": {
     "name": "#%%\n"
    }
   }
  },
  {
   "cell_type": "code",
   "execution_count": 42,
   "outputs": [],
   "source": [],
   "metadata": {
    "collapsed": false,
    "pycharm": {
     "name": "#%%\n"
    }
   }
  }
 ],
 "metadata": {
  "kernelspec": {
   "display_name": "Python 3",
   "language": "python",
   "name": "python3"
  },
  "language_info": {
   "codemirror_mode": {
    "name": "ipython",
    "version": 2
   },
   "file_extension": ".py",
   "mimetype": "text/x-python",
   "name": "python",
   "nbconvert_exporter": "python",
   "pygments_lexer": "ipython2",
   "version": "2.7.6"
  }
 },
 "nbformat": 4,
 "nbformat_minor": 0
}