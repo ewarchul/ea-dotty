{
 "cells": [
  {
   "cell_type": "code",
   "execution_count": 1,
   "outputs": [],
   "source": [
    "import numpy as np\n",
    "from sklearn.linear_model import LinearRegression\n",
    "import os\n",
    "import pandas as pd\n",
    "from tqdm import tqdm\n",
    "from pyade.sade import apply as sade\n",
    "from pyade.jade import apply as jade\n",
    "from pyade.de import apply as de\n",
    "from pyade.lshade import apply as lshade\n",
    "from fitnessFunctions import spherical, rosenbrock, elliptic, rastrigin, ackley"
   ],
   "metadata": {
    "collapsed": false,
    "pycharm": {
     "name": "#%%\n"
    }
   }
  },
  {
   "cell_type": "code",
   "execution_count": 2,
   "outputs": [],
   "source": [
    "def getSequence(population, fitfunc):\n",
    "    tmpPopulation = sorted(population, key=lambda point: fitfunc(point))\n",
    "    centroidSequence = []\n",
    "    while len(tmpPopulation):\n",
    "        centroidSequence.append(np.mean(tmpPopulation, axis=0))\n",
    "        del tmpPopulation[-1]\n",
    "    return np.array(centroidSequence)\n",
    "\n",
    "\n",
    "def estimator(population, fitfunc):\n",
    "    samples = np.linspace(0, 1, len(population)).reshape(-1, 1)\n",
    "    targets = getSequence(population, fitfunc)\n",
    "    regression_model = LinearRegression().fit(samples, targets)\n",
    "    return regression_model.predict([[1.0]])[0]"
   ],
   "metadata": {
    "collapsed": false,
    "pycharm": {
     "name": "#%%\n"
    }
   }
  },
  {
   "cell_type": "code",
   "execution_count": 3,
   "outputs": [],
   "source": [
    "def desc_points(population, fitfunc):\n",
    "    bf = min(map(lambda point: fitfunc(point), population))\n",
    "    mf = fitfunc(np.mean(population, axis=0))\n",
    "    ep = fitfunc(estimator(population, fitfunc))\n",
    "    return bf, mf, ep"
   ],
   "metadata": {
    "collapsed": false,
    "pycharm": {
     "name": "#%%\n"
    }
   }
  },
  {
   "cell_type": "code",
   "execution_count": 1,
   "outputs": [],
   "source": [
    "test_params_DN = [(10, 2), (10, 5), (10, 10), (10, 20), (10, 50), (10, 100), (10, 200), (10, 500), (10, 1000), (2, 100),\n",
    "                  (5, 100), (10, 100), (20, 100), (50, 100), (100, 100)]\n",
    "\n",
    "out_dir_base = '/Users/wojciechsitek/Documents/PW/ea-dotty/out/sade.nosync/'\n",
    "fitnessFunctions = [spherical, rosenbrock, elliptic, rastrigin, ackley]\n",
    "algorithms = [de, jade, sade, lshade]\n",
    "algorithm_names = ['de', 'jade', 'sade', 'lshade']\n",
    "\n",
    "\n",
    "with tqdm(total=len(fitnessFunctions) * len(test_params_DN) * len(algorithms)) as bar:\n",
    "    for fitfunc in fitnessFunctions:\n",
    "        for D, N in test_params_DN:\n",
    "            for algorithm, algo_name in zip(algorithms, algorithm_names):\n",
    "                params = {'max_evals': 5000 * N, 'population_size': N, 'callback': None,\n",
    "                          'individual_size': D, 'seed': 21, 'opts': None,\n",
    "                          'bounds': np.array([[-pow(10, 6), pow(10, 6)]] * D), 'func': fitfunc}\n",
    "                if algo_name == 'jade':\n",
    "                    params['c'] = 0.1\n",
    "                    params['p'] = max(.05, 3 / N)\n",
    "                elif algo_name == 'de':\n",
    "                    params['f'] = 0.5\n",
    "                    params['cr'] = 0.9\n",
    "                    params['cross'] = 'bin'\n",
    "                _, _, archive = algorithm(**params)\n",
    "                descriptive_points = list(map(lambda population: desc_points(population, fitfunc), archive))\n",
    "                path = os.path.join(out_dir_base, f\"{algo_name}-{fitfunc.__name__}-D={D}-N={N}\")\n",
    "                pd.DataFrame(np.array(descriptive_points)).to_csv(path, index=False, header=False)\n",
    "                bar.update(1)"
   ],
   "metadata": {
    "collapsed": false,
    "pycharm": {
     "name": "#%%\n"
    }
   }
  }
 ],
 "metadata": {
  "kernelspec": {
   "display_name": "Python 3",
   "language": "python",
   "name": "python3"
  },
  "language_info": {
   "codemirror_mode": {
    "name": "ipython",
    "version": 2
   },
   "file_extension": ".py",
   "mimetype": "text/x-python",
   "name": "python",
   "nbconvert_exporter": "python",
   "pygments_lexer": "ipython2",
   "version": "2.7.6"
  }
 },
 "nbformat": 4,
 "nbformat_minor": 0
}